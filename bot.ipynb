{
 "cells": [
  {
   "cell_type": "code",
   "execution_count": 2,
   "metadata": {},
   "outputs": [
    {
     "name": "stderr",
     "output_type": "stream",
     "text": [
      "2022-12-12 16:37:53,723 (__init__.py:966 MainThread) ERROR - TeleBot: \"Infinity polling: polling exited\"\n",
      "2022-12-12 16:37:53,726 (__init__.py:968 MainThread) ERROR - TeleBot: \"Break infinity polling\"\n"
     ]
    }
   ],
   "source": [
    "import telebot\n",
    "\n",
    "bot = telebot.TeleBot(\"5926816130:AAF0YddnlJ64rj4OxpX3VtT-0BNIA_TtN5A\")\n",
    "\n",
    "\n",
    "@bot.message_handler(commands=['start', 'help'])\n",
    "def send_welcome(message):\n",
    "    bot.reply_to(message, \"Howdy, how are you doing?\")\n",
    "\n",
    "\n",
    "@bot.message_handler(func=lambda message: True)\n",
    "def echo_all(message):\n",
    "    bot.reply_to(message, message.text)\n",
    "\n",
    "\n",
    "bot.infinity_polling()\n"
   ]
  },
  {
   "cell_type": "code",
   "execution_count": 7,
   "metadata": {},
   "outputs": [
    {
     "ename": "MSSQLDatabaseException",
     "evalue": "(20009, b'DB-Lib error message 20009, severity 9:\\nUnable to connect: Adaptive Server is unavailable or does not exist (SQLEXPRESS)\\n')",
     "output_type": "error",
     "traceback": [
      "\u001b[0;31m---------------------------------------------------------------------------\u001b[0m",
      "\u001b[0;31mMSSQLDatabaseException\u001b[0m                    Traceback (most recent call last)",
      "Cell \u001b[0;32mIn[7], line 2\u001b[0m\n\u001b[1;32m      1\u001b[0m \u001b[39mfrom\u001b[39;00m \u001b[39mpymssql\u001b[39;00m \u001b[39mimport\u001b[39;00m _mssql\n\u001b[0;32m----> 2\u001b[0m conn \u001b[39m=\u001b[39m _mssql\u001b[39m.\u001b[39;49mconnect(server\u001b[39m=\u001b[39;49m\u001b[39m'\u001b[39;49m\u001b[39mSQLEXPRESS\u001b[39;49m\u001b[39m'\u001b[39;49m, user\u001b[39m=\u001b[39;49m\u001b[39m'\u001b[39;49m\u001b[39msa\u001b[39;49m\u001b[39m'\u001b[39;49m, password\u001b[39m=\u001b[39;49m\u001b[39m'\u001b[39;49m\u001b[39m1234\u001b[39;49m\u001b[39m'\u001b[39;49m,\n\u001b[1;32m      3\u001b[0m                       database\u001b[39m=\u001b[39;49m\u001b[39m'\u001b[39;49m\u001b[39madventureworks\u001b[39;49m\u001b[39m'\u001b[39;49m)\n",
      "File \u001b[0;32msrc/pymssql/_mssql.pyx:2109\u001b[0m, in \u001b[0;36mpymssql._mssql.connect\u001b[0;34m()\u001b[0m\n",
      "File \u001b[0;32msrc/pymssql/_mssql.pyx:701\u001b[0m, in \u001b[0;36mpymssql._mssql.MSSQLConnection.__init__\u001b[0;34m()\u001b[0m\n",
      "File \u001b[0;32msrc/pymssql/_mssql.pyx:1818\u001b[0m, in \u001b[0;36mpymssql._mssql.maybe_raise_MSSQLDatabaseException\u001b[0;34m()\u001b[0m\n",
      "File \u001b[0;32msrc/pymssql/_mssql.pyx:1835\u001b[0m, in \u001b[0;36mpymssql._mssql.raise_MSSQLDatabaseException\u001b[0;34m()\u001b[0m\n",
      "\u001b[0;31mMSSQLDatabaseException\u001b[0m: (20009, b'DB-Lib error message 20009, severity 9:\\nUnable to connect: Adaptive Server is unavailable or does not exist (SQLEXPRESS)\\n')"
     ]
    }
   ],
   "source": [
    "from pymssql import _mssql\n",
    "conn = _mssql.connect(server='SQLEXPRESS', user='sa', password='1234',\n",
    "                      database='adventureworks')\n"
   ]
  },
  {
   "cell_type": "code",
   "execution_count": null,
   "metadata": {},
   "outputs": [],
   "source": [
    "conn.execute_non_query('CREATE TABLE persons(id INT, name VARCHAR(100))')\n",
    "conn.execute_non_query(\"INSERT INTO persons VALUES(1, 'John Doe')\")\n",
    "conn.execute_non_query(\"INSERT INTO persons VALUES(2, 'Jane Doe')\")\n"
   ]
  },
  {
   "cell_type": "code",
   "execution_count": null,
   "metadata": {},
   "outputs": [],
   "source": [
    "# how to fetch rows from a table\n",
    "conn.execute_query('SELECT * FROM persons WHERE salesrep=%s', 'John Doe')\n",
    "for row in conn:\n",
    "    print \"ID=%d, Name=%s\" % (row['id'], row['name'])\n"
   ]
  },
  {
   "cell_type": "code",
   "execution_count": null,
   "metadata": {},
   "outputs": [],
   "source": [
    "# examples of other query functions\n",
    "numemployees = conn.execute_scalar(\"SELECT COUNT(*) FROM employees\")\n",
    "# note that '%' is not a special character here\n",
    "numemployees = conn.execute_scalar(\n",
    "    \"SELECT COUNT(*) FROM employees WHERE name LIKE 'J%'\")\n",
    "employeedata = conn.execute_row(\"SELECT * FROM employees WHERE id=%d\", 13)\n"
   ]
  },
  {
   "cell_type": "code",
   "execution_count": null,
   "metadata": {},
   "outputs": [],
   "source": []
  },
  {
   "cell_type": "code",
   "execution_count": null,
   "metadata": {},
   "outputs": [],
   "source": [
    "# how to fetch rows from a stored procedure\n",
    "conn.execute_query('sp_spaceused')   # sp_spaceused without arguments returns 2 result sets\n",
    "res1 = [ row for row in conn ]       # 1st result\n",
    "res2 = [ row for row in conn ]       # 2nd result"
   ]
  },
  {
   "cell_type": "code",
   "execution_count": null,
   "metadata": {},
   "outputs": [],
   "source": [
    "# how to get an output parameter from a stored procedure\n",
    "sqlcmd = \"\"\"\n",
    "DECLARE @res INT\n",
    "EXEC usp_mystoredproc @res OUT\n",
    "SELECT @res\n",
    "\"\"\"\n",
    "res = conn.execute_scalar(sqlcmd)\n"
   ]
  },
  {
   "cell_type": "code",
   "execution_count": null,
   "metadata": {},
   "outputs": [],
   "source": [
    "# how to get more output parameters from a stored procedure\n",
    "sqlcmd = \"\"\"\n",
    "DECLARE @res1 INT, @res2 TEXT, @res3 DATETIME\n",
    "EXEC usp_getEmpData %d, %s, @res1 OUT, @res2 OUT, @res3 OUT\n",
    "SELECT @res1, @res2, @res3\n",
    "\"\"\"\n",
    "res = conn.execute_row(sqlcmd, (13, 'John Doe'))\n"
   ]
  },
  {
   "cell_type": "code",
   "execution_count": null,
   "metadata": {},
   "outputs": [],
   "source": [
    "conn.close()\n"
   ]
  }
 ],
 "metadata": {
  "kernelspec": {
   "display_name": "Python 3",
   "language": "python",
   "name": "python3"
  },
  "language_info": {
   "codemirror_mode": {
    "name": "ipython",
    "version": 3
   },
   "file_extension": ".py",
   "mimetype": "text/x-python",
   "name": "python",
   "nbconvert_exporter": "python",
   "pygments_lexer": "ipython3",
   "version": "3.10.4"
  },
  "orig_nbformat": 4,
  "vscode": {
   "interpreter": {
    "hash": "3ad933181bd8a04b432d3370b9dc3b0662ad032c4dfaa4e4f1596c548f763858"
   }
  }
 },
 "nbformat": 4,
 "nbformat_minor": 2
}
